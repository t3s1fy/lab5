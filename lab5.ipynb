{
  "cells": [
    {
      "cell_type": "markdown",
      "id": "cfa87c9f-dd5d-4cf7-a9f4-50de4b36ce40",
      "metadata": {
        "id": "cfa87c9f-dd5d-4cf7-a9f4-50de4b36ce40"
      },
      "source": [
        "## Классификация изображений\n",
        "### Вводные слова\n",
        "Задача классификации изображений - это одна из ключевых задач в области компьютерного зрения и машинного обучения. Она заключается в том, чтобы разработать модель, способную автоматически определить, к какому классу или категории принадлежит данное изображение. Классификация используется в следующих задачах: классификация спектрограмм музыкальных записей для выявления предпочтений конкретного пользователя, классификация изображений для автоматической идентификации людей на фотографиях, кластеризация покупок пользователя в интернет-магазине для формирования целевой рекламы, и так далее\n",
        "### Рекомендации\n",
        "Работу лучше выполнять в среде Google Colab, поскольку потребуется осуществлять вычисления на видеокарте. В Colab в меню нажмите на Изменить->Настройки блокнота и выберите доступный GPU. Это позволит использовать для обучения CUDA\n",
        "### Цель работы и задачи\n",
        "В данной работе мы разработаем модель, для предсказания класса на датасете cifar-10. Ниже будет представлена baseline модель, основываясь на которой вы можете строить свою модель для классификации\n",
        "\\\n",
        "Задачи, которые вам нужно решить в работе:\n",
        "\\\n",
        "Обязательные:\n",
        "- Построить распределение классов в данных\n",
        "- Подготовить данные и обучить baseline-модель на датасете\n",
        "- Оценить качество модели\n",
        "- Написать свою модель и обучить ее\n",
        "\n",
        "Желательные:\n",
        "- Подумать об архитектуре модели, быть может стоит сделать ее глубже, добавить боковые связи и т.д.\n",
        "- Задуматься об аугментации\n",
        "- Попробовать transfer-learning\n",
        "\n",
        "\\\n",
        "\\\n",
        "Ваша работа будет оцениваться исходя из 2 факторов:\n",
        "- контрольная метрика\n",
        "- протокол исследования, которым и будет служить этот Jupyter-Notebook\n",
        "\n",
        "\\\n",
        "Максимальный балл за работу - 20.\n",
        "\\\n",
        "Удачи!"
      ]
    },
    {
      "cell_type": "markdown",
      "id": "f7e69704-f4ce-4b25-98ce-5e98630a389d",
      "metadata": {
        "id": "f7e69704-f4ce-4b25-98ce-5e98630a389d"
      },
      "source": [
        "## Baseline-модель"
      ]
    },
    {
      "cell_type": "code",
      "execution_count": 2,
      "id": "e06b4054-5e95-4ce5-96b0-e0817d64e809",
      "metadata": {
        "id": "e06b4054-5e95-4ce5-96b0-e0817d64e809"
      },
      "outputs": [],
      "source": [
        "import torch\n",
        "from tqdm import tqdm\n",
        "import torch.nn as nn\n",
        "import torch.optim as optim\n",
        "import torchvision\n",
        "import torchvision.transforms as transforms\n",
        "import matplotlib.pyplot as plt\n",
        "import numpy as np\n",
        "from sklearn.model_selection import train_test_split\n",
        "from torch.functional import F\n",
        "from torchvision.models import resnet18"
      ]
    },
    {
      "cell_type": "markdown",
      "id": "cbb6abc6-ee2d-408a-8521-11c9602e63ce",
      "metadata": {
        "id": "cbb6abc6-ee2d-408a-8521-11c9602e63ce"
      },
      "source": [
        "Обучать мы будем, разумеется, на cuda, поэтому, создадим переменную device, которая будет зависеть от того, доступна ли видеокарта для вычислений"
      ]
    },
    {
      "cell_type": "code",
      "execution_count": 3,
      "id": "17f8d12f-a0c3-44e7-912f-59485c4146c7",
      "metadata": {
        "colab": {
          "base_uri": "https://localhost:8080/"
        },
        "id": "17f8d12f-a0c3-44e7-912f-59485c4146c7",
        "outputId": "6bebb465-0af5-4dd2-a941-76baec4bdecf"
      },
      "outputs": [
        {
          "output_type": "stream",
          "name": "stdout",
          "text": [
            "Running on cpu\n"
          ]
        }
      ],
      "source": [
        "device = torch.device('cuda') if torch.cuda.is_available() else torch.device('cpu')\n",
        "print(f'Running on {device}')\n",
        "\n",
        "# Функция для подсчета числа параметров\n",
        "def count_parameters(model):\n",
        "    return sum(p.numel() for p in model.parameters() if p.requires_grad)"
      ]
    },
    {
      "cell_type": "code",
      "source": [
        "class ImprovedModel(nn.Module):\n",
        "    def __init__(self, num_classes=10):\n",
        "        super(ImprovedModel, self).__init__()\n",
        "        self.features = nn.Sequential(\n",
        "            nn.Conv2d(3, 32, kernel_size=3, padding=1),\n",
        "            nn.BatchNorm2d(32),\n",
        "            nn.ReLU(),\n",
        "            nn.MaxPool2d(2, 2),\n",
        "\n",
        "            nn.Conv2d(32, 64, kernel_size=3, padding=1),\n",
        "            nn.BatchNorm2d(64),\n",
        "            nn.ReLU(),\n",
        "            nn.MaxPool2d(2, 2),\n",
        "\n",
        "            nn.Conv2d(64, 128, kernel_size=3, padding=1),\n",
        "            nn.BatchNorm2d(128),\n",
        "            nn.ReLU(),\n",
        "            nn.MaxPool2d(2, 2)\n",
        "        )\n",
        "        self.classifier = nn.Sequential(\n",
        "            nn.Dropout(0.5),\n",
        "            nn.Linear(128 * 4 * 4, 256),\n",
        "            nn.ReLU(),\n",
        "            nn.Dropout(0.5),\n",
        "            nn.Linear(256, num_classes)\n",
        "        )\n",
        "\n",
        "    def forward(self, x):\n",
        "        x = self.features(x)\n",
        "        x = x.view(x.size(0), -1)\n",
        "        x = self.classifier(x)\n",
        "        return x"
      ],
      "metadata": {
        "id": "bgyqt3kTFqEr"
      },
      "id": "bgyqt3kTFqEr",
      "execution_count": 26,
      "outputs": []
    },
    {
      "cell_type": "code",
      "source": [
        "class ImprovedResNet(nn.Module):\n",
        "    def __init__(self, num_classes=10):\n",
        "        super(ImprovedResNet, self).__init__()\n",
        "        self.model = resnet18(pretrained=True)\n",
        "        self.model.fc = nn.Linear(self.model.fc.in_features, num_classes)\n",
        "        self.dropout = nn.Dropout(0.5)\n",
        "\n",
        "    def forward(self, x):\n",
        "        x = self.model(x)\n",
        "        x = self.dropout(x)\n",
        "        return x"
      ],
      "metadata": {
        "id": "BcBG6tiFMzOy"
      },
      "id": "BcBG6tiFMzOy",
      "execution_count": null,
      "outputs": []
    },
    {
      "cell_type": "markdown",
      "id": "66a75636-3a12-42d0-a050-51b79b9b76ba",
      "metadata": {
        "id": "66a75636-3a12-42d0-a050-51b79b9b76ba"
      },
      "source": [
        "Загрузим данные, построим диаграммы для распределения классов и посмотрим на сами картинки"
      ]
    },
    {
      "cell_type": "code",
      "source": [
        "# Загрузка данных\n",
        "train_dataset = torchvision.datasets.CIFAR10(root='./data', train=True, transform=transform_train, download=True)\n",
        "test_dataset = torchvision.datasets.CIFAR10(root='./data', train=False, transform=transform_test, download=True)\n",
        "\n",
        "# Распределение классов\n",
        "class_labels = train_dataset.classes\n",
        "class_counts = np.zeros(len(class_labels))\n",
        "for _, label in train_dataset:\n",
        "    class_counts[label] += 1\n",
        "\n",
        "class_counts = class_counts / class_counts.sum() * 100\n",
        "plt.figure(figsize=(10, 8))\n",
        "plt.bar(class_labels, class_counts)\n",
        "plt.xlabel('Классы')\n",
        "plt.ylabel('Количество изображений, %')\n",
        "plt.title('Распределение классов в датасете CIFAR-10')\n",
        "plt.xticks(rotation=45)\n",
        "plt.tight_layout()\n",
        "plt.show()"
      ],
      "metadata": {
        "colab": {
          "base_uri": "https://localhost:8080/",
          "height": 842
        },
        "id": "RiH7xjV9F6CN",
        "outputId": "5d7b17d6-4ec1-4373-ca53-62d32aae4c4c"
      },
      "id": "RiH7xjV9F6CN",
      "execution_count": 24,
      "outputs": [
        {
          "output_type": "stream",
          "name": "stdout",
          "text": [
            "Files already downloaded and verified\n",
            "Files already downloaded and verified\n"
          ]
        },
        {
          "output_type": "display_data",
          "data": {
            "text/plain": [
              "<Figure size 1000x800 with 1 Axes>"
            ],
            "image/png": "[encoded data removed]"
          },
          "metadata": {}
        }
      ]
    },
    {
      "cell_type": "code",
      "execution_count": 7,
      "id": "f4505ddd-6bdb-42eb-9d83-c78091a824b4",
      "metadata": {
        "colab": {
          "base_uri": "https://localhost:8080/",
          "height": 851
        },
        "id": "f4505ddd-6bdb-42eb-9d83-c78091a824b4",
        "outputId": "ba7ebfac-90d7-46b7-e9ff-78ab1873635a"
      },
      "outputs": [
        {
          "output_type": "stream",
          "name": "stderr",
          "text": [
            "WARNING:matplotlib.image:Clipping input data to the valid range for imshow with RGB data ([0..1] for floats or [0..255] for integers).\n",
            "WARNING:matplotlib.image:Clipping input data to the valid range for imshow with RGB data ([0..1] for floats or [0..255] for integers).\n",
            "WARNING:matplotlib.image:Clipping input data to the valid range for imshow with RGB data ([0..1] for floats or [0..255] for integers).\n",
            "WARNING:matplotlib.image:Clipping input data to the valid range for imshow with RGB data ([0..1] for floats or [0..255] for integers).\n",
            "WARNING:matplotlib.image:Clipping input data to the valid range for imshow with RGB data ([0..1] for floats or [0..255] for integers).\n",
            "WARNING:matplotlib.image:Clipping input data to the valid range for imshow with RGB data ([0..1] for floats or [0..255] for integers).\n",
            "WARNING:matplotlib.image:Clipping input data to the valid range for imshow with RGB data ([0..1] for floats or [0..255] for integers).\n",
            "WARNING:matplotlib.image:Clipping input data to the valid range for imshow with RGB data ([0..1] for floats or [0..255] for integers).\n",
            "WARNING:matplotlib.image:Clipping input data to the valid range for imshow with RGB data ([0..1] for floats or [0..255] for integers).\n"
          ]
        },
        {
          "output_type": "display_data",
          "data": {
            "text/plain": [
              "<Figure size 800x800 with 9 Axes>"
            ],
            "image/png": "[encoded data removed]"
          },
          "metadata": {}
        }
      ],
      "source": [
        "indices = np.random.choice(len(train_dataset), 9, replace=False)\n",
        "\n",
        "# Создайте сетку 3x3 для отображения изображений\n",
        "fig, axes = plt.subplots(3, 3, figsize=(8, 8))\n",
        "for i, ax in enumerate(axes.flat):\n",
        "    image, label = train_dataset[indices[i]]\n",
        "    image = image.numpy().transpose((1, 2, 0))  # Перевести изображение из формата (C, H, W) в (H, W, C)\n",
        "    ax.imshow(image)\n",
        "    ax.set_title(f'Label: {label}')\n",
        "    ax.axis('off')\n",
        "\n",
        "plt.show()"
      ]
    },
    {
      "cell_type": "markdown",
      "id": "2d176f3c-b153-4ed8-8963-b268f7b5972f",
      "metadata": {
        "id": "2d176f3c-b153-4ed8-8963-b268f7b5972f"
      },
      "source": [
        "Сделайте вывод о сбалансированности датасета:\n",
        "\n",
        "На основе построенного графика распределения классов в наборе данных CIFAR-10 видно, что все 10 классов имеют примерно одинаковое количество изображений. Это свидетельствует о том, что датасет сбалансирован\n",
        "\n",
        "Исходя из этого, какие метрики будем применять для оценки качества модели?\n",
        "\n",
        "Так как датасет сбалансирован, метрики вроде Accuracy являются надежным показателем, поскольку в таких наборах данных каждая категория имеет примерно одинаковое количество примеров."
      ]
    },
    {
      "cell_type": "markdown",
      "id": "f411c3aa-4894-40f4-9f2e-5cab17405d05",
      "metadata": {
        "id": "f411c3aa-4894-40f4-9f2e-5cab17405d05"
      },
      "source": [
        "Напишем функции train и test"
      ]
    },
    {
      "cell_type": "code",
      "execution_count": 25,
      "id": "85dd72a1-ff5a-493e-be70-da9af9efcc22",
      "metadata": {
        "id": "85dd72a1-ff5a-493e-be70-da9af9efcc22"
      },
      "outputs": [],
      "source": [
        "model = ImprovedModel(num_classes=10).to(device)\n",
        "criterion = nn.CrossEntropyLoss()\n",
        "optimizer = optim.Adam(model.parameters(), lr=0.001)\n",
        "\n",
        "def train(model, loader, optimizer, criterion, device):\n",
        "    model.train()\n",
        "    running_loss = 0.0\n",
        "    correct = 0\n",
        "    total = 0\n",
        "    for inputs, targets in loader:\n",
        "        inputs, targets = inputs.to(device), targets.to(device)\n",
        "\n",
        "        optimizer.zero_grad()\n",
        "        outputs = model(inputs)\n",
        "        loss = criterion(outputs, targets)\n",
        "        loss.backward()\n",
        "        optimizer.step()\n",
        "\n",
        "        running_loss += loss.item()\n",
        "        _, predicted = outputs.max(1)\n",
        "        total += targets.size(0)\n",
        "        correct += predicted.eq(targets).sum().item()\n",
        "\n",
        "    return running_loss / len(loader), 100. * correct / total\n",
        "\n",
        "def evaluate(model, loader, criterion, device):\n",
        "    model.eval()\n",
        "    running_loss = 0.0\n",
        "    correct = 0\n",
        "    total = 0\n",
        "    with torch.no_grad():\n",
        "        for inputs, targets in loader:\n",
        "            inputs, targets = inputs.to(device), targets.to(device)\n",
        "\n",
        "            outputs = model(inputs)\n",
        "            loss = criterion(outputs, targets)\n",
        "\n",
        "            running_loss += loss.item()\n",
        "            _, predicted = outputs.max(1)\n",
        "            total += targets.size(0)\n",
        "            correct += predicted.eq(targets).sum().item()\n",
        "\n",
        "    return running_loss / len(loader), 100. * correct / total"
      ]
    },
    {
      "cell_type": "markdown",
      "id": "1aba5730-5f22-4715-b181-5d3878fa12bc",
      "metadata": {
        "id": "1aba5730-5f22-4715-b181-5d3878fa12bc"
      },
      "source": [
        "Сделайте разделение на train и val\n",
        "Зачем так делать?\n",
        "\n",
        "Разделение на train и validation нужно для объективной оценки качества модели на данных, не участвовавших в обучении, что помогает предотвратить переобучение. Val-набор используется для настройки гиперпараметров и контроля за тем, как модель будет работать с новыми данными."
      ]
    },
    {
      "cell_type": "code",
      "source": [
        "train_size = int(0.8 * len(train_dataset))\n",
        "val_size = len(train_dataset) - train_size\n",
        "train_dataset, val_dataset = torch.utils.data.random_split(train_dataset, [train_size, val_size])"
      ],
      "metadata": {
        "id": "PFoBrRI-GvSO"
      },
      "id": "PFoBrRI-GvSO",
      "execution_count": 9,
      "outputs": []
    },
    {
      "cell_type": "markdown",
      "id": "d0108c36-a287-410a-a4db-ec018503f113",
      "metadata": {
        "id": "d0108c36-a287-410a-a4db-ec018503f113"
      },
      "source": [
        "Создайте Dataloader'ы и настройте гиперпараметры, оптимизатор и функцию потерь\n",
        "\\\n",
        "Какой оптимизатор будете использовать и почему, а какую loss-функцию?"
      ]
    },
    {
      "cell_type": "code",
      "source": [
        "transform_train = transforms.Compose([\n",
        "    transforms.RandomCrop(32, padding=4),\n",
        "    transforms.RandomHorizontalFlip(),\n",
        "    transforms.ToTensor(),\n",
        "    transforms.Normalize((0.5, 0.5, 0.5), (0.5, 0.5, 0.5))\n",
        "])\n",
        "\n",
        "transform_test = transforms.Compose([\n",
        "    transforms.ToTensor(),\n",
        "    transforms.Normalize((0.5, 0.5, 0.5), (0.5, 0.5, 0.5))\n",
        "])\n",
        "\n",
        "train_dataset = torchvision.datasets.CIFAR10(root='./data', train=True, transform=transform_train, download=True)\n",
        "test_dataset = torchvision.datasets.CIFAR10(root='./data', train=False, transform=transform_test, download=True)\n",
        "\n",
        "train_loader = torch.utils.data.DataLoader(train_dataset, batch_size=64, shuffle=True)\n",
        "test_loader = torch.utils.data.DataLoader(test_dataset, batch_size=64, shuffle=False)"
      ],
      "metadata": {
        "colab": {
          "base_uri": "https://localhost:8080/"
        },
        "id": "9Oopful2G80e",
        "outputId": "60c989e7-997f-4fe0-ec94-c990d617e75f"
      },
      "id": "9Oopful2G80e",
      "execution_count": 27,
      "outputs": [
        {
          "output_type": "stream",
          "name": "stdout",
          "text": [
            "Files already downloaded and verified\n",
            "Files already downloaded and verified\n"
          ]
        }
      ]
    },
    {
      "cell_type": "markdown",
      "id": "6f1ff197-828a-4eda-ac8d-6a07d9597db5",
      "metadata": {
        "id": "6f1ff197-828a-4eda-ac8d-6a07d9597db5"
      },
      "source": [
        "Обучите модель и постройте графики обучения"
      ]
    },
    {
      "cell_type": "code",
      "source": [
        "num_epochs = 30\n",
        "for epoch in range(num_epochs):\n",
        "    train_loss, train_acc = train(model, train_loader, optimizer, criterion, device)\n",
        "    test_loss, test_acc = evaluate(model, test_loader, criterion, device)\n",
        "\n",
        "    print(f'Epoch {epoch+1}/{num_epochs}:')\n",
        "    print(f'    Train Loss: {train_loss:.4f}, Train Accuracy: {train_acc:.2f}%')\n",
        "    print(f'    Test Loss: {test_loss:.4f}, Test Accuracy: {test_acc:.2f}%')"
      ],
      "metadata": {
        "colab": {
          "base_uri": "https://localhost:8080/"
        },
        "id": "SLXMV62hHA9e",
        "outputId": "c841d89c-fa0c-4c48-ad89-67f9cb78f219"
      },
      "id": "SLXMV62hHA9e",
      "execution_count": 21,
      "outputs": [
        {
          "output_type": "stream",
          "name": "stdout",
          "text": [
            "Epoch 1/30:\n",
            "    Train Loss: 1.2329, Train Accuracy: 55.67%\n",
            "    Test Loss: 1.0074, Test Accuracy: 62.93%\n",
            "Epoch 2/30:\n",
            "    Train Loss: 1.1498, Train Accuracy: 59.02%\n",
            "    Test Loss: 0.9135, Test Accuracy: 67.88%\n",
            "Epoch 3/30:\n",
            "    Train Loss: 1.0818, Train Accuracy: 62.19%\n",
            "    Test Loss: 0.8617, Test Accuracy: 69.30%\n",
            "Epoch 4/30:\n",
            "    Train Loss: 1.0316, Train Accuracy: 63.92%\n",
            "    Test Loss: 0.8335, Test Accuracy: 70.76%\n",
            "Epoch 5/30:\n",
            "    Train Loss: 0.9958, Train Accuracy: 65.10%\n",
            "    Test Loss: 0.8092, Test Accuracy: 72.06%\n",
            "Epoch 6/30:\n",
            "    Train Loss: 0.9591, Train Accuracy: 66.44%\n",
            "    Test Loss: 0.7438, Test Accuracy: 73.97%\n",
            "Epoch 7/30:\n",
            "    Train Loss: 0.9286, Train Accuracy: 67.74%\n",
            "    Test Loss: 0.7815, Test Accuracy: 72.38%\n",
            "Epoch 8/30:\n",
            "    Train Loss: 0.9051, Train Accuracy: 68.48%\n",
            "    Test Loss: 0.7032, Test Accuracy: 75.24%\n",
            "Epoch 9/30:\n",
            "    Train Loss: 0.8781, Train Accuracy: 69.56%\n",
            "    Test Loss: 0.6898, Test Accuracy: 75.99%\n",
            "Epoch 10/30:\n",
            "    Train Loss: 0.8585, Train Accuracy: 70.53%\n",
            "    Test Loss: 0.6662, Test Accuracy: 76.66%\n",
            "Epoch 11/30:\n",
            "    Train Loss: 0.8396, Train Accuracy: 71.22%\n",
            "    Test Loss: 0.6417, Test Accuracy: 77.68%\n",
            "Epoch 12/30:\n",
            "    Train Loss: 0.8207, Train Accuracy: 71.79%\n",
            "    Test Loss: 0.6579, Test Accuracy: 76.85%\n",
            "Epoch 13/30:\n",
            "    Train Loss: 0.8103, Train Accuracy: 71.99%\n",
            "    Test Loss: 0.6727, Test Accuracy: 76.76%\n",
            "Epoch 14/30:\n",
            "    Train Loss: 0.7914, Train Accuracy: 73.08%\n",
            "    Test Loss: 0.6448, Test Accuracy: 78.26%\n",
            "Epoch 15/30:\n",
            "    Train Loss: 0.7708, Train Accuracy: 73.79%\n",
            "    Test Loss: 0.6174, Test Accuracy: 78.54%\n",
            "Epoch 16/30:\n",
            "    Train Loss: 0.7651, Train Accuracy: 73.76%\n",
            "    Test Loss: 0.6291, Test Accuracy: 78.40%\n",
            "Epoch 17/30:\n",
            "    Train Loss: 0.7524, Train Accuracy: 74.45%\n",
            "    Test Loss: 0.5915, Test Accuracy: 79.86%\n",
            "Epoch 18/30:\n",
            "    Train Loss: 0.7434, Train Accuracy: 74.73%\n",
            "    Test Loss: 0.6117, Test Accuracy: 79.25%\n",
            "Epoch 19/30:\n",
            "    Train Loss: 0.7254, Train Accuracy: 75.26%\n",
            "    Test Loss: 0.5844, Test Accuracy: 79.99%\n",
            "Epoch 20/30:\n",
            "    Train Loss: 0.7184, Train Accuracy: 75.40%\n",
            "    Test Loss: 0.5762, Test Accuracy: 80.20%\n",
            "Epoch 21/30:\n",
            "    Train Loss: 0.7111, Train Accuracy: 75.84%\n",
            "    Test Loss: 0.5783, Test Accuracy: 80.12%\n",
            "Epoch 22/30:\n",
            "    Train Loss: 0.7036, Train Accuracy: 76.07%\n",
            "    Test Loss: 0.5705, Test Accuracy: 79.98%\n",
            "Epoch 23/30:\n",
            "    Train Loss: 0.6972, Train Accuracy: 76.27%\n",
            "    Test Loss: 0.5728, Test Accuracy: 80.43%\n",
            "Epoch 24/30:\n",
            "    Train Loss: 0.6923, Train Accuracy: 76.47%\n",
            "    Test Loss: 0.5899, Test Accuracy: 79.85%\n",
            "Epoch 25/30:\n",
            "    Train Loss: 0.6756, Train Accuracy: 76.83%\n",
            "    Test Loss: 0.5726, Test Accuracy: 80.27%\n",
            "Epoch 26/30:\n",
            "    Train Loss: 0.6761, Train Accuracy: 76.95%\n",
            "    Test Loss: 0.5417, Test Accuracy: 81.17%\n",
            "Epoch 27/30:\n",
            "    Train Loss: 0.6688, Train Accuracy: 77.23%\n",
            "    Test Loss: 0.5461, Test Accuracy: 81.16%\n",
            "Epoch 28/30:\n",
            "    Train Loss: 0.6589, Train Accuracy: 77.57%\n",
            "    Test Loss: 0.5585, Test Accuracy: 80.76%\n",
            "Epoch 29/30:\n",
            "    Train Loss: 0.6587, Train Accuracy: 77.67%\n",
            "    Test Loss: 0.5225, Test Accuracy: 82.32%\n",
            "Epoch 30/30:\n",
            "    Train Loss: 0.6474, Train Accuracy: 77.83%\n",
            "    Test Loss: 0.5339, Test Accuracy: 81.83%\n"
          ]
        }
      ]
    },
    {
      "cell_type": "markdown",
      "id": "ff061f53-e474-4cb4-b34d-45f14546c400",
      "metadata": {
        "id": "ff061f53-e474-4cb4-b34d-45f14546c400"
      },
      "source": [
        "Оцените тестовую метрику на тестовых данных"
      ]
    },
    {
      "cell_type": "code",
      "execution_count": 23,
      "id": "68c54f83-e0a6-4e1c-87c7-b129028cae76",
      "metadata": {
        "id": "68c54f83-e0a6-4e1c-87c7-b129028cae76",
        "colab": {
          "base_uri": "https://localhost:8080/"
        },
        "outputId": "50a763ff-7f09-4cd8-8bf9-5c948e9eebec"
      },
      "outputs": [
        {
          "output_type": "stream",
          "name": "stdout",
          "text": [
            "Test Loss: 0.5339\n",
            "Test Accuracy: 0.8183\n"
          ]
        }
      ],
      "source": [
        "test_acc, test_loss = test(model, test_loader, criterion, device)\n",
        "print('Test Loss: {:.4f}\\nTest Accuracy: {:.4f}'.format(test_loss, test_acc))"
      ]
    },
    {
      "cell_type": "markdown",
      "id": "06b78b24-c338-4e42-81ce-7c120d8fd420",
      "metadata": {
        "id": "06b78b24-c338-4e42-81ce-7c120d8fd420"
      },
      "source": [
        "## Что дальше?\n",
        "Теперь, когда у вас есть все необходимое - экспериментируйте. Можете изменить все что угодно, креативность поощряется. Используйте новые модели, loss-функции, аугментацию, ансамбли, выдумывайте все, что сможете"
      ]
    },
    {
      "cell_type": "markdown",
      "id": "5c373039-62ab-441a-84bc-473d3fa726d2",
      "metadata": {
        "id": "5c373039-62ab-441a-84bc-473d3fa726d2"
      },
      "source": [
        "## Критерии оценки\n",
        "Accuracy - на тестовых данных\n",
        "- $Accuracy \\leq 0.67$ - 0 баллов\n",
        "- $0.67 < Accuracy \\leq 0.72$ - 2 балла\n",
        "- $0.72 < Accuracy \\leq 0.77$ - 4 балла\n",
        "- $0.77 < Accuracy \\leq 0.82$ - 6 баллов\n",
        "- $0.82 < Accuracy \\leq 0.87$ - 8 баллов\n",
        "- $Accuracy > 0.87$ - 10 баллов"
      ]
    }
  ],
  "metadata": {
    "kernelspec": {
      "display_name": "Python 3 (ipykernel)",
      "language": "python",
      "name": "python3"
    },
    "language_info": {
      "codemirror_mode": {
        "name": "ipython",
        "version": 3
      },
      "file_extension": ".py",
      "mimetype": "text/x-python",
      "name": "python",
      "nbconvert_exporter": "python",
      "pygments_lexer": "ipython3",
      "version": "3.9.7"
    },
    "colab": {
      "provenance": []
    }
  },
  "nbformat": 4,
  "nbformat_minor": 5
}